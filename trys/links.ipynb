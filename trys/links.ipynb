{
 "cells": [
  {
   "cell_type": "code",
   "execution_count": null,
   "metadata": {},
   "outputs": [],
   "source": [
    "curl 'https://databank.worldbank.org/AjaxServices/AjaxReportMethods.asmx/GetDimensionJSON' \\\n",
    "  -H 'accept: application/json, text/javascript, */*; q=0.01' \\\n",
    "  -H 'accept-language: en-US,en;q=0.5' \\\n",
    "  -H 'content-type: application/json; charset=UTF-8' \\\n",
    "  -H 'cookie: at_check=true; mbox=session#d64ecb69876f433a80fbe3d0874d8e27#1724958147; AMCVS_1E7B833554B8360D0A4C98A5%40AdobeOrg=1; databank.worldbank.orgCORS=395d41685c48e9795f8b87b43a28a1c2; databank.worldbank.org=395d41685c48e9795f8b87b43a28a1c2; ARRAffinity=7b4e0a2cb18c3ecb9a1f4e05a1dcbcdc02a989b8c5a0084b20101ae27e438846; ARRAffinitySameSite=7b4e0a2cb18c3ecb9a1f4e05a1dcbcdc02a989b8c5a0084b20101ae27e438846; TS0132f9bc=0114ae29267daaf569d010d5dee7682ac6949364099b3af341e23e3787ea6d2657a0150571c932856ca262bc80e509f8a6fdc18a37470d2f1bc62b98c73e80f8817a6b12027d5ed6f5452096dd3659609a8b224a21; ASP.NET_SessionId=ieb1b0zdjxzxp32k1dtth4d1; databank.cookie=76392458.47873.0000; preview=Y; uvts=1a6f3cd3-1bd9-4591-50fe-b48d69beb80d; uvts=1a6f3cd3-1bd9-4591-50fe-b48d69beb80d; TS0154aeeb=01689d3836a514a17473abf0d6f5ad5772e6e7bdb10ccf16fdf7f852744e393965cb477533a1c076dc911f6898034a512bedbeafdf52b860296ee44b6419fb896179cd3b33; TS019865bf=0114ae2926c598e46b4ae9102571f3a9d87f98fbed635746909897e801c97774a30a2680fd56f09847324c5b122953947fe88982e30d94f61dfe3f03b6d8bbeb5eb051520c7aa12dabe25b97338c164e5507e05ac7; __cf_bm=F3UoRz.xhjIkMnlEO0YU3rK_.Nt6O4g66DdS2.LM1.o-1724957585-1.0.1.1-NpaQpipG7246_bdappeEqPELG5JZq2S2Em.Uo6HfGv5z5Bq71nK.lg793fIK6RFXEsvZ52Oc9S6WWpMk5C0kMQ; AMCV_1E7B833554B8360D0A4C98A5%40AdobeOrg=179643557%7CMCIDTS%7C19965%7CMCMID%7C92218247660966655474435029970291211097%7CMCAID%7CNONE%7CMCOPTOUT-1724964788s%7CNONE%7CvVersion%7C5.5.0' \\\n",
    "  -H 'origin: https://databank.worldbank.org' \\\n",
    "  -H 'priority: u=1, i' \\\n",
    "  -H 'sec-ch-ua: \"Chromium\";v=\"128\", \"Not;A=Brand\";v=\"24\", \"Brave\";v=\"128\"' \\\n",
    "  -H 'sec-ch-ua-mobile: ?0' \\\n",
    "  -H 'sec-ch-ua-platform: \"Windows\"' \\\n",
    "  -H 'sec-fetch-dest: empty' \\\n",
    "  -H 'sec-fetch-mode: cors' \\\n",
    "  -H 'sec-fetch-site: same-origin' \\\n",
    "  -H 'sec-gpc: 1' \\\n",
    "  -H 'user-agent: Mozilla/5.0 (Windows NT 10.0; Win64; x64) AppleWebKit/537.36 (KHTML, like Gecko) Chrome/128.0.0.0 Safari/537.36' \\\n",
    "  -H 'x-requested-with: XMLHttpRequest' \\\n",
    "  --data-raw $'{cubeid: \\'2\\', controlid: \\'WDI_Ctry\\', hierarchy: \\'[WDI_Ctry].[List]\\'}'"
   ]
  },
  {
   "cell_type": "code",
   "execution_count": null,
   "metadata": {},
   "outputs": [],
   "source": [
    "https://databank.worldbank.org/AjaxServices/AjaxReportMethods.asmx/GetDatabaseListJSON"
   ]
  }
 ],
 "metadata": {
  "language_info": {
   "name": "python"
  }
 },
 "nbformat": 4,
 "nbformat_minor": 2
}
